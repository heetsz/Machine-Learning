{
 "cells": [
  {
   "cell_type": "code",
   "execution_count": null,
   "metadata": {},
   "outputs": [
    {
     "data": {
      "text/plain": [
       "5"
      ]
     },
     "execution_count": 21,
     "metadata": {},
     "output_type": "execute_result"
    }
   ],
   "source": [
    "from ganit import jod\n",
    "\n",
    "jod(2,3)\n"
   ]
  },
  {
   "cell_type": "code",
   "execution_count": 78,
   "metadata": {},
   "outputs": [
    {
     "name": "stdout",
     "output_type": "stream",
     "text": [
      "56\n"
     ]
    }
   ],
   "source": [
    "import random\n",
    "print(random.randint(1, 100)) # 1 to 100"
   ]
  },
  {
   "cell_type": "code",
   "execution_count": null,
   "metadata": {},
   "outputs": [],
   "source": [
    "import os\n",
    "os.mkdir(\"newdir\") # create a new directory"
   ]
  },
  {
   "cell_type": "code",
   "execution_count": 80,
   "metadata": {},
   "outputs": [
    {
     "name": "stdout",
     "output_type": "stream",
     "text": [
      "{\"name\": \"heet\", \"age\": 23, \"city\": \"ahmedabad\"}\n"
     ]
    }
   ],
   "source": [
    "import json\n",
    "data  = {'name':'heet','age':23,'city':'ahmedabad'}\n",
    "dt = json.dumps(data) # convert into json\n",
    "print(dt) # convert into python"
   ]
  },
  {
   "cell_type": "code",
   "execution_count": null,
   "metadata": {},
   "outputs": [],
   "source": [
    "import csv\n"
   ]
  },
  {
   "cell_type": "code",
   "execution_count": 98,
   "metadata": {},
   "outputs": [
    {
     "name": "stdout",
     "output_type": "stream",
     "text": [
      "20163 days, 5 hours, 53 minutes, 28 seconds\n"
     ]
    }
   ],
   "source": [
    "import time\n",
    "current_time = time.time() # current time in seconds\n",
    "days = current_time // (24 * 3600)\n",
    "current_time = current_time % (24 * 3600)\n",
    "hours = current_time // 3600\n",
    "current_time %= 3600\n",
    "minutes = current_time // 60\n",
    "seconds = current_time % 60\n",
    "\n",
    "print(f\"{int(days)} days, {int(hours)} hours, {int(minutes)} minutes, {int(seconds)} seconds\")"
   ]
  }
 ],
 "metadata": {
  "kernelspec": {
   "display_name": "Python 3",
   "language": "python",
   "name": "python3"
  },
  "language_info": {
   "codemirror_mode": {
    "name": "ipython",
    "version": 3
   },
   "file_extension": ".py",
   "mimetype": "text/x-python",
   "name": "python",
   "nbconvert_exporter": "python",
   "pygments_lexer": "ipython3",
   "version": "3.12.0"
  }
 },
 "nbformat": 4,
 "nbformat_minor": 2
}
