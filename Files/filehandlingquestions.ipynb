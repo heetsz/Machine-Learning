{
 "cells": [
  {
   "cell_type": "markdown",
   "metadata": {},
   "source": [
    "# Module: File Handling Assignments\n",
    "## Lesson: File Handling and Operations\n",
    "### Assignment 1: Reading a File\n",
    "\n",
    "Write a function that reads the contents of a file named `sample.txt` and prints each line.\n",
    "\n",
    "### Assignment 2: Writing to a File\n",
    "\n",
    "Write a function that writes a list of strings to a file named `output.txt`, with each string on a new line.\n",
    "\n",
    "### Assignment 3: Copying a File\n",
    "\n",
    "Write a function that copies the contents of a file named `source.txt` to a new file named `destination.txt`.\n",
    "\n",
    "### Assignment 4: Appending to a File\n",
    "\n",
    "Write a function that appends a given string to the end of a file named `log.txt`.\n",
    "\n",
    "### Assignment 5: Counting Words in a File\n",
    "\n",
    "Write a function that reads the contents of a file named `document.txt` and returns the number of words in the file.\n",
    "\n",
    "### Assignment 6: Finding and Replacing Text\n",
    "\n",
    "Write a function that finds and replaces all occurrences of a given word in a file named `data.txt` with another word.\n",
    "\n",
    "### Assignment 7: Reading a File in Reverse\n",
    "\n",
    "Write a function that reads the contents of a file named `reverse.txt` and prints each line in reverse order.\n",
    "\n",
    "### Assignment 8: Counting Lines, Words, and Characters\n",
    "\n",
    "Write a function that reads the contents of a file named `stats.txt` and returns the number of lines, words, and characters in the file.\n",
    "\n",
    "### Assignment 9: Merging Multiple Files\n",
    "\n",
    "Write a function that merges the contents of multiple files into a single file named `merged.txt`.\n",
    "\n",
    "### Assignment 10: Splitting a Large File\n",
    "\n",
    "Write a function that splits a large file named `large.txt` into smaller files of 100 lines each.\n",
    "\n",
    "### Assignment 11: Creating a Log File\n",
    "\n",
    "Write a function that creates a log file named `activity.log` and writes log messages with timestamps.\n",
    "\n",
    "### Assignment 12: Binary File Operations\n",
    "\n",
    "Write a function that reads a binary file named `image.bin` and writes its contents to another binary file named `copy_image.bin`.\n",
    "\n",
    "### Assignment 13: CSV File Operations\n",
    "\n",
    "Write a function that reads a CSV file named `data.csv` and prints its contents as a list of dictionaries.\n",
    "\n",
    "### Assignment 14: JSON File Operations\n",
    "\n",
    "Write a function that reads a JSON file named `data.json` and prints its contents as a Python dictionary.\n",
    "\n",
    "### Assignment 15: File Permission Handling\n",
    "\n",
    "Write a function that attempts to read a file named `protected.txt` and handles any permission errors gracefully by printing an error message."
   ]
  },
  {
   "cell_type": "code",
   "execution_count": 4,
   "metadata": {},
   "outputs": [
    {
     "name": "stdout",
     "output_type": "stream",
     "text": [
      "hey all\n",
      "myself heet shah\n",
      "i am sophomore in engg\n",
      "passionate about computer science and mechanics\n",
      "Good Bye!!\n"
     ]
    }
   ],
   "source": [
    "with open('sample.txt', 'r') as file:\n",
    "      for i in file:\n",
    "          print(i.strip())"
   ]
  },
  {
   "cell_type": "code",
   "execution_count": 27,
   "id": "130db1ae",
   "metadata": {},
   "outputs": [
    {
     "name": "stdout",
     "output_type": "stream",
     "text": [
      "File appended successfully\n"
     ]
    }
   ],
   "source": [
    "with open('output.txt', 'a') as file:\n",
    "    fruits = ['cherry\\n', 'apple\\n', 'banana\\n', 'mango\\n', 'orange\\n', 'grapes\\n']\n",
    "    file.writelines(fruits)\n",
    "    print('File appended successfully')\n"
   ]
  },
  {
   "cell_type": "code",
   "execution_count": 33,
   "id": "1deeadf3",
   "metadata": {},
   "outputs": [
    {
     "name": "stdout",
     "output_type": "stream",
     "text": [
      "destination2 updated successfully\n"
     ]
    }
   ],
   "source": [
    "import shutil\n",
    "shutil.copy('output.txt', 'destination1.txt')\n",
    "\n",
    "# OR\n",
    "\n",
    "with open('sample.txt', 'r') as file:\n",
    "      contents = file.read()\n",
    "\n",
    "with open('destination2.txt', 'a') as file:\n",
    "      file.write(contents)\n",
    "      print('destination2 updated successfully')"
   ]
  },
  {
   "cell_type": "code",
   "execution_count": 35,
   "id": "6fdc8f5c",
   "metadata": {},
   "outputs": [
    {
     "name": "stdout",
     "output_type": "stream",
     "text": [
      "The number of lines in sample.txt is: 13\n"
     ]
    }
   ],
   "source": [
    "with open('sample.txt', 'r') as file:\n",
    "      line_count = sum(1 for line in file)\n",
    "      print(f'The number of lines in sample.txt is: {line_count}')"
   ]
  },
  {
   "cell_type": "code",
   "execution_count": 39,
   "id": "525e39d0",
   "metadata": {},
   "outputs": [
    {
     "name": "stdout",
     "output_type": "stream",
     "text": [
      "The number of words in sample.txt is: 23\n"
     ]
    }
   ],
   "source": [
    "with open('sample.txt', 'r') as file:\n",
    "      cnt = 0\n",
    "      for i in file:\n",
    "              words = i.split()\n",
    "              cnt += len(words)\n",
    "      \n",
    "      \n",
    "      print(f'The number of words in sample.txt is: {cnt}')"
   ]
  },
  {
   "cell_type": "code",
   "execution_count": 40,
   "id": "29c4dc89",
   "metadata": {},
   "outputs": [
    {
     "name": "stdout",
     "output_type": "stream",
     "text": [
      "Replacement complete\n"
     ]
    }
   ],
   "source": [
    "with open('sample.txt', 'r') as file:\n",
    "      data = file.read()\n",
    "\n",
    "data = data.replace('test', 'replaced')\n",
    "\n",
    "with open('sample.txt', 'w') as file:\n",
    "      file.write(data)\n",
    "\n",
    "print('Replacement complete')"
   ]
  },
  {
   "cell_type": "code",
   "execution_count": 41,
   "id": "9132a2f9",
   "metadata": {},
   "outputs": [
    {
     "name": "stdout",
     "output_type": "stream",
     "text": [
      "replaced line\n",
      "replaced line\n",
      "\n",
      "\n",
      "\n",
      "\n",
      "\n",
      "\n",
      "Good Bye !!\n",
      "passionate about computer science and mechanics\n",
      "i am sophomore in engg\n",
      "myself heet shah\n",
      "hey all\n"
     ]
    }
   ],
   "source": [
    "with open('sample.txt', 'r') as file:\n",
    "      lines = file.readlines()\n",
    "\n",
    "for line in reversed(lines):\n",
    "      print(line.strip())"
   ]
  },
  {
   "cell_type": "code",
   "execution_count": 42,
   "id": "63de7fbb",
   "metadata": {},
   "outputs": [
    {
     "name": "stdout",
     "output_type": "stream",
     "text": [
      "destination3 created successfully\n"
     ]
    }
   ],
   "source": [
    "with open('destination1.txt', 'r') as file1, open('destination2.txt', 'r') as file2, open('destination3.txt', 'w') as file3:\n",
    "      file3.write(file1.read())\n",
    "      file3.write(file2.read())\n",
    "\n",
    "print('destination3 created successfully')"
   ]
  },
  {
   "cell_type": "code",
   "execution_count": null,
   "id": "aae98de8",
   "metadata": {},
   "outputs": [],
   "source": []
  }
 ],
 "metadata": {
  "kernelspec": {
   "display_name": "Python 3",
   "language": "python",
   "name": "python3"
  },
  "language_info": {
   "codemirror_mode": {
    "name": "ipython",
    "version": 3
   },
   "file_extension": ".py",
   "mimetype": "text/x-python",
   "name": "python",
   "nbconvert_exporter": "python",
   "pygments_lexer": "ipython3",
   "version": "3.12.0"
  }
 },
 "nbformat": 4,
 "nbformat_minor": 5
}
