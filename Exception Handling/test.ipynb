{
 "cells": [
  {
   "cell_type": "code",
   "execution_count": 6,
   "metadata": {},
   "outputs": [
    {
     "name": "stdout",
     "output_type": "stream",
     "text": [
      "Exception occured: invalid literal for int() with base 10: 'dfg'\n",
      "Thank you for choosing us\n"
     ]
    }
   ],
   "source": [
    "from math import factorial\n",
    "try:\n",
    "      a = int(input(\"Enter a number: \"))\n",
    "      result = factorial(a)\n",
    "except Exception as e:\n",
    "      print(f\"Exception occured: {e}\")\n",
    "else:\n",
    "      print(f\"Factorial of {a} is {result}\")\n",
    "finally:\n",
    "      print(\"Thank you for choosing us\")"
   ]
  }
 ],
 "metadata": {
  "kernelspec": {
   "display_name": "Python 3",
   "language": "python",
   "name": "python3"
  },
  "language_info": {
   "codemirror_mode": {
    "name": "ipython",
    "version": 3
   },
   "file_extension": ".py",
   "mimetype": "text/x-python",
   "name": "python",
   "nbconvert_exporter": "python",
   "pygments_lexer": "ipython3",
   "version": "3.12.0"
  }
 },
 "nbformat": 4,
 "nbformat_minor": 2
}
